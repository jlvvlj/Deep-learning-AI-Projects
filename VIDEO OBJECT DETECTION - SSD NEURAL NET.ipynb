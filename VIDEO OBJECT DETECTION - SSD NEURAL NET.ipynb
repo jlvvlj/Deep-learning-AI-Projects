{
 "cells": [
  {
   "cell_type": "markdown",
   "metadata": {},
   "source": [
    "# Object Detection in Videos with an SSD neural network"
   ]
  },
  {
   "cell_type": "code",
   "execution_count": null,
   "metadata": {},
   "outputs": [],
   "source": [
    "# Importing the libraries\n",
    "import torch\n",
    "from torch.autograd import Variable\n",
    "import cv2\n",
    "from data import BaseTransform, VOC_CLASSES as labelmap\n",
    "from ssd import build_ssd\n",
    "import imageio"
   ]
  },
  {
   "cell_type": "code",
   "execution_count": null,
   "metadata": {},
   "outputs": [],
   "source": [
    "# Defining a function that will do the detections\n",
    "def detect(frame, net, transform): \n",
    "    height, width = frame.shape[:2] \n",
    "    frame_t = transform(frame)[0] \n",
    "    x = torch.from_numpy(frame_t).permute(2, 0, 1) \n",
    "    x = Variable(x.unsqueeze(0)) \n",
    "    y = net(x) \n",
    "    detections = y.data \n",
    "    scale = torch.Tensor([width, height, width, height]) \n",
    "    for i in range(detections.size(1)): \n",
    "        j = 0 \n",
    "        while detections[0, i, j, 0] >= 0.6: \n",
    "            pt = (detections[0, i, j, 1:] * scale).numpy() \n",
    "            cv2.rectangle(frame, (int(pt[0]), int(pt[1])), (int(pt[2]), int(pt[3])), (255, 0, 0), 2) \n",
    "            cv2.putText(frame, labelmap[i - 1], (int(pt[0]), int(pt[1])), cv2.FONT_HERSHEY_SIMPLEX, 2, (255, 255, 255), 2, cv2.LINE_AA)\n",
    "            j += 1 \n",
    "    return frame "
   ]
  },
  {
   "cell_type": "code",
   "execution_count": null,
   "metadata": {},
   "outputs": [],
   "source": [
    "# Creating the SSD neural network\n",
    "net = build_ssd('test') \n",
    "net.load_state_dict(torch.load('ssd300_mAP_77.43_v2.pth', map_location = lambda storage, loc: storage)) "
   ]
  },
  {
   "cell_type": "code",
   "execution_count": null,
   "metadata": {},
   "outputs": [],
   "source": [
    "# Creating the transformation\n",
    "transform = BaseTransform(net.size, (104/256.0, 117/256.0, 123/256.0))"
   ]
  },
  {
   "cell_type": "code",
   "execution_count": null,
   "metadata": {},
   "outputs": [],
   "source": [
    "# Doing some Object Detection on a video\n",
    "reader = imageio.get_reader('video.mp4') \n",
    "fps = reader.get_meta_data()['fps'] \n",
    "writer = imageio.get_writer('output.mp4', fps = fps) \n",
    "for i, frame in enumerate(reader): \n",
    "    frame = detect(frame, net.eval(), transform) \n",
    "    writer.append_data(frame) \n",
    "    print(i) \n",
    "writer.close() "
   ]
  }
 ],
 "metadata": {
  "kernelspec": {
   "display_name": "Python 3",
   "language": "python",
   "name": "python3"
  },
  "language_info": {
   "codemirror_mode": {
    "name": "ipython",
    "version": 3
   },
   "file_extension": ".py",
   "mimetype": "text/x-python",
   "name": "python",
   "nbconvert_exporter": "python",
   "pygments_lexer": "ipython3",
   "version": "3.6.5"
  }
 },
 "nbformat": 4,
 "nbformat_minor": 2
}
